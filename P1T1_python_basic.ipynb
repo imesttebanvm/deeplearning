{
  "nbformat": 4,
  "nbformat_minor": 0,
  "metadata": {
    "colab": {
      "name": "P1T1_python_basic",
      "provenance": []
    },
    "kernelspec": {
      "name": "python3",
      "display_name": "Python 3"
    },
    "language_info": {
      "name": "python"
    }
  },
  "cells": [
    {
      "cell_type": "markdown",
      "source": [
        "# Metadata: \n",
        "*  @Autor:Rafael Esteban Torres Herreño\n",
        "*  @Date:2022/Feb/12\n",
        "*  @Description:This python notebook shows basic exercises in python."
      ],
      "metadata": {
        "id": "7J5xx6FKo_rJ"
      }
    },
    {
      "cell_type": "code",
      "source": [
        "# Ejercios Básicos"
      ],
      "metadata": {
        "id": "tNDXdXzBpSNE"
      },
      "execution_count": null,
      "outputs": []
    },
    {
      "cell_type": "markdown",
      "source": [
        "## Ejercicio 1: Productos + Iva"
      ],
      "metadata": {
        "id": "Vp6BEORXpg4Q"
      }
    },
    {
      "cell_type": "markdown",
      "source": [
        "###Versión normal"
      ],
      "metadata": {
        "id": "VbCMYj3Vp4Al"
      }
    },
    {
      "cell_type": "code",
      "source": [
        "prod1=int(input(\"Input first product:\"))\n",
        "prod2=int(input(\"Input second product:\"))\n",
        "prod3=int(input(\"Input third product:\"))\n",
        "prod4=int(input(\"Input fourth product:\"))\n",
        "prod5=int(input(\"Input fifth product:\"))\n",
        "suma=(prod1+prod2+prod3+prod4+prod5)\n",
        "iva=suma *0.19\n",
        "total=suma+iva\n",
        "print(\"Valor bruto\",suma,\"\\nIVA:\",iva,\"\\nTOTAL:\",total)}"
      ],
      "metadata": {
        "colab": {
          "base_uri": "https://localhost:8080/"
        },
        "id": "kKuIFwX1qDjy",
        "outputId": "245e0772-743f-4029-a7bd-3dc945081a20"
      },
      "execution_count": null,
      "outputs": [
        {
          "output_type": "stream",
          "name": "stdout",
          "text": [
            "Input first product:2000\n",
            "Input second product:5000\n",
            "Input third product:8000\n",
            "Input fourth product:3000\n",
            "Input fifth product:3000\n",
            "Valor bruto 21000 \n",
            "IVA: 3990.0 \n",
            "TOTAL: 24990.0\n"
          ]
        }
      ]
    },
    {
      "cell_type": "markdown",
      "source": [
        "###Versión Python"
      ],
      "metadata": {
        "id": "JXRqAtWCq2vj"
      }
    },
    {
      "cell_type": "code",
      "source": [
        "pro1,pro2,pro3,pro4,pro5=input(\"input 1°,2°,3°,4° and 5° products, separate with comma:\").split(\",\")\n",
        "suma=(pro1+pro2+pro3+pro4+pro5)\n",
        "print(\"Valor bruto\",suma,\"\\nIVA:\",iva,\"\\nTOTAL:\",total)"
      ],
      "metadata": {
        "colab": {
          "base_uri": "https://localhost:8080/"
        },
        "id": "Up5M5gAErBr3",
        "outputId": "350d7668-96e6-4f5a-cd75-d824808bc618"
      },
      "execution_count": null,
      "outputs": [
        {
          "output_type": "stream",
          "name": "stdout",
          "text": [
            "input 1°,2°,3°,4° and 5° products, separate with comma:4000, 8000, 2000, 4000, 9000\n",
            "Valor bruto 4000 8000 2000 4000 9000 \n",
            "IVA: 3990.0 \n",
            "TOTAL: 24990.0\n"
          ]
        }
      ]
    },
    {
      "cell_type": "markdown",
      "source": [
        "##Ejercicio 2"
      ],
      "metadata": {
        "id": "wG3IsE-krjIa"
      }
    },
    {
      "cell_type": "markdown",
      "source": [
        "###Versión normal"
      ],
      "metadata": {
        "id": "3WJJAgxMrmCM"
      }
    },
    {
      "cell_type": "code",
      "source": [
        "var1=float(int(input(\"Enter the first number: \")))\n",
        "var2=float(int(input(\"Enter the second number: \")))\n",
        "var3=float(int(input(\"Enter the third number: \")))\n",
        "\n",
        "if (var1 >= var2) and (var1 >= var3):\n",
        "   largest = var1\n",
        "elif (var2 >= var1) and (var2 >= var3):\n",
        "   largest = var2\n",
        "else:\n",
        "   largest = var3\n",
        "\n",
        "print(\"The largest number is\", largest)\n",
        "\n",
        "if (var1 <= var2) and (var1 <= var3):\n",
        "  smallest = var1\n",
        "elif (var2 <= var1) and (var2 <= var3):\n",
        "   smallest = var2\n",
        "else:\n",
        "   smallest = var3\n",
        "\n",
        "print(\"The smallest number is\", smallest)\n",
        "\n",
        "sum=var1+var2+var3\n",
        "\n",
        "average=sum/3\n",
        "\n",
        "print(\"The average is\", average)"
      ],
      "metadata": {
        "colab": {
          "base_uri": "https://localhost:8080/"
        },
        "id": "CcCyYdFTrz-U",
        "outputId": "62769b42-9e79-4dfe-8bb3-fda25cee13bf"
      },
      "execution_count": null,
      "outputs": [
        {
          "output_type": "stream",
          "name": "stdout",
          "text": [
            "Enter the first number: 5\n",
            "Enter the second number: 3\n",
            "Enter the third number: 2\n",
            "The largest number is 5.0\n",
            "The smallest number is 2.0\n",
            "The average is 3.3333333333333335\n"
          ]
        }
      ]
    },
    {
      "cell_type": "markdown",
      "source": [
        "###Versión Python"
      ],
      "metadata": {
        "id": "HnD0Dnc5s8XV"
      }
    },
    {
      "cell_type": "code",
      "source": [
        "var1,var2,var3=input(\"Enter 3 numbers separated by comma:\").split(\",\")\n",
        "print(\"The largest number is:\"+str(max(int(var1),int(var2),int(var3))),\"The smallest number is: \"+str(min(int(var1),int(var2),int(var3))), \"The average is: \"+ str((int(var1)+int(var2)+int(var3))/3))"
      ],
      "metadata": {
        "colab": {
          "base_uri": "https://localhost:8080/"
        },
        "id": "7t3KPgF_s7XB",
        "outputId": "00eeca29-75d9-4dc4-9687-3dd91c2281a8"
      },
      "execution_count": null,
      "outputs": [
        {
          "output_type": "stream",
          "name": "stdout",
          "text": [
            "Enter 3 numbers separated by comma:9, 8, 7\n",
            "The largest number is:9 The smallest number is: 7 The average is: 8.0\n"
          ]
        }
      ]
    },
    {
      "cell_type": "markdown",
      "source": [
        "##Ejercicio 3"
      ],
      "metadata": {
        "id": "cSnhYHcTs2Ub"
      }
    },
    {
      "cell_type": "markdown",
      "source": [
        "###Versión normal"
      ],
      "metadata": {
        "id": "-Kw6LCb9s4nM"
      }
    },
    {
      "cell_type": "code",
      "execution_count": null,
      "metadata": {
        "colab": {
          "base_uri": "https://localhost:8080/"
        },
        "id": "Tp3SkXpooprs",
        "outputId": "b4d4e141-9923-45a2-cfbd-08cf3fad5afe"
      },
      "outputs": [
        {
          "output_type": "stream",
          "name": "stdout",
          "text": [
            "Enter number of elements in list: 5\n",
            "Enter elements: 5\n",
            "Enter elements: 8\n",
            "Enter elements: 9\n",
            "Enter elements: 1\n",
            "Enter elements: 3\n",
            "List: [5, 8, 9, 1, 3]\n",
            "Sorted list in ascending order: [1, 3, 5, 8, 9]\n",
            "Sorted list in descending order: [9, 8, 5, 3, 1]\n",
            "The largest number is: 9\n",
            "The smallest number is: 1\n",
            "The average is: 5.2\n"
          ]
        }
      ],
      "source": [
        "list1 = []\n",
        "num = int(input(\"Enter number of elements in list: \"))\n",
        "total_sum=0\n",
        "for i in range(1, num + 1):\n",
        "    ele= int(input(\"Enter elements: \"))\n",
        "    list1.append(ele)\n",
        "    total_sum += ele\n",
        "\n",
        "print(\"List:\",list1)\n",
        "\n",
        "list1.sort()\n",
        "print(\"Sorted list in ascending order:\",list1)\n",
        "\n",
        "list1.sort(reverse = True)\n",
        "print(\"Sorted list in descending order:\",list1)\n",
        "\n",
        "maximum = max(list1)\n",
        "print(\"The largest number is:\",maximum)\n",
        "\n",
        "smallest = min(list1)\n",
        "print(\"The smallest number is:\",smallest)\n",
        "\n",
        "avg = total_sum/num\n",
        "print(\"The average is:\", avg)"
      ]
    },
    {
      "cell_type": "markdown",
      "source": [
        "###Versión Python"
      ],
      "metadata": {
        "id": "TjKekm_4O08M"
      }
    },
    {
      "cell_type": "code",
      "source": [
        "list1 = []\n",
        "num = int(input(\"Enter number of elements in list: \"))\n",
        "total_sum=0\n",
        "for i in range(1, num + 1):\n",
        "    ele= int(input(\"Enter elements: \"))\n",
        "    list1.append(ele)\n",
        "    total_sum += ele\n",
        "\n",
        "print(\"List:\",list1)\n",
        "\n",
        "list1.sort()\n",
        "print(\"Sorted list in ascending order:\",list1)\n",
        "\n",
        "list1.sort(reverse = True)\n",
        "print(\"Sorted list in descending order:\",list1)\n",
        "\n",
        "print(\"The largest number is:\",maximum, \"\\nThe smallest number is:\",smallest, \"\\nThe average is:\",avg)"
      ],
      "metadata": {
        "colab": {
          "base_uri": "https://localhost:8080/",
          "height": 338
        },
        "id": "bkgDi-9nO6-A",
        "outputId": "7ee944b6-4001-4a3e-91a7-bfda1de82b1a"
      },
      "execution_count": 1,
      "outputs": [
        {
          "output_type": "stream",
          "name": "stdout",
          "text": [
            "Enter number of elements in list: 4\n",
            "Enter elements: 3\n",
            "Enter elements: 9\n",
            "Enter elements: 6\n",
            "Enter elements: 8\n",
            "List: [3, 9, 6, 8]\n",
            "Sorted list in ascending order: [3, 6, 8, 9]\n",
            "Sorted list in descending order: [9, 8, 6, 3]\n"
          ]
        },
        {
          "output_type": "error",
          "ename": "NameError",
          "evalue": "ignored",
          "traceback": [
            "\u001b[0;31m---------------------------------------------------------------------------\u001b[0m",
            "\u001b[0;31mNameError\u001b[0m                                 Traceback (most recent call last)",
            "\u001b[0;32m<ipython-input-1-8d855eb89fe8>\u001b[0m in \u001b[0;36m<module>\u001b[0;34m()\u001b[0m\n\u001b[1;32m     15\u001b[0m \u001b[0mprint\u001b[0m\u001b[0;34m(\u001b[0m\u001b[0;34m\"Sorted list in descending order:\"\u001b[0m\u001b[0;34m,\u001b[0m\u001b[0mlist1\u001b[0m\u001b[0;34m)\u001b[0m\u001b[0;34m\u001b[0m\u001b[0;34m\u001b[0m\u001b[0m\n\u001b[1;32m     16\u001b[0m \u001b[0;34m\u001b[0m\u001b[0m\n\u001b[0;32m---> 17\u001b[0;31m \u001b[0mprint\u001b[0m\u001b[0;34m(\u001b[0m\u001b[0;34m\"The largest number is:\"\u001b[0m\u001b[0;34m,\u001b[0m\u001b[0mmaximum\u001b[0m\u001b[0;34m,\u001b[0m \u001b[0;34m\"\\nThe smallest number is:\"\u001b[0m\u001b[0;34m,\u001b[0m\u001b[0msmallest\u001b[0m\u001b[0;34m,\u001b[0m \u001b[0;34m\"\\nThe average is:\"\u001b[0m\u001b[0;34m,\u001b[0m\u001b[0mavg\u001b[0m\u001b[0;34m)\u001b[0m\u001b[0;34m\u001b[0m\u001b[0;34m\u001b[0m\u001b[0m\n\u001b[0m",
            "\u001b[0;31mNameError\u001b[0m: name 'maximum' is not defined"
          ]
        }
      ]
    }
  ]
}