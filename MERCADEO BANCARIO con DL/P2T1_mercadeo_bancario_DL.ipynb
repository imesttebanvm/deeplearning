{
  "nbformat": 4,
  "nbformat_minor": 0,
  "metadata": {
    "colab": {
      "name": "P2T1_mercadeo_bancario_DL.ipynb",
      "provenance": []
    },
    "kernelspec": {
      "name": "python3",
      "display_name": "Python 3"
    },
    "language_info": {
      "name": "python"
    }
  },
  "cells": [
    {
      "cell_type": "markdown",
      "source": [
        "# Metadata:\n",
        "* @Autor:Rafael Esteban Torres Herreño\n",
        "* @Date: 30/04/2022\n",
        "* @Description: This python notebook shows the practice of a neuronal network applied to the bank marketing dataset "
      ],
      "metadata": {
        "id": "kMU6GmwuOQKq"
      }
    },
    {
      "cell_type": "markdown",
      "source": [
        "##P1.Importando librerias."
      ],
      "metadata": {
        "id": "MNDnQrDMQOAA"
      }
    },
    {
      "cell_type": "code",
      "execution_count": 47,
      "metadata": {
        "id": "9KrwLWqcNnI8"
      },
      "outputs": [],
      "source": [
        "import numpy as np\n",
        "import pandas as pd\n",
        "from sklearn.model_selection import train_test_split \n",
        "from keras.models import Sequential\n",
        "from keras.layers import Dense\n",
        "\n",
        "from sklearn import preprocessing # para convertir datos categoricos a numericos\n",
        "le =preprocessing.LabelEncoder()  #instanciamos el Codificador"
      ]
    },
    {
      "cell_type": "markdown",
      "source": [
        "##P2. cargue del dataset"
      ],
      "metadata": {
        "id": "ZkNJ9p0sQguk"
      }
    },
    {
      "cell_type": "code",
      "source": [
        "df_bm = pd.read_csv('https://raw.githubusercontent.com/luisFernandoCastellanosG/Machine_learning/master/1-Machine_Learning_Classic/Databasets/mercadeo_bancario.csv', encoding='utf-8')\n",
        "df_bm.head()"
      ],
      "metadata": {
        "colab": {
          "base_uri": "https://localhost:8080/",
          "height": 270
        },
        "id": "yPUHMJOWQiFk",
        "outputId": "a92f9410-4192-480e-f3e3-f45f739ce773"
      },
      "execution_count": 48,
      "outputs": [
        {
          "output_type": "execute_result",
          "data": {
            "text/plain": [
              "   edad      trabajo estado_civil              educacion  total_hijos  \\\n",
              "0    44  blue-collar       married             preschool            7   \n",
              "1    53   technician       married               unknown            1   \n",
              "2    28   management        single     university.degree            3   \n",
              "3    39     services       married  Technological_school            1   \n",
              "4    55      retired       married             preschool            2   \n",
              "\n",
              "  credito_sin_pago prestamo_vivienda prestamo_personal  valor_prestamo  \\\n",
              "0          unknown               yes                no          268017   \n",
              "1               no                no                no               0   \n",
              "2               no               yes                no          308036   \n",
              "3               no                no                no               0   \n",
              "4               no               yes                no          249888   \n",
              "\n",
              "   dias_ultimo_pago  tarjetas_credito  contacto  mes dia_semana  \\\n",
              "0                 0                 5  cellular  aug        thu   \n",
              "1                 0                 0  cellular  nov        fri   \n",
              "2                 0                 0  cellular  jun        thu   \n",
              "3                 0                 4  cellular  apr        fri   \n",
              "4                 0                 4  cellular  aug        fri   \n",
              "\n",
              "   duracion_ultimo_contacto  dias_ultimo_contacto  anterior_contacto  \\\n",
              "0                       210                    43                  0   \n",
              "1                       138                     0                  0   \n",
              "2                       339                    27                  2   \n",
              "3                       185                     0                  0   \n",
              "4                       137                     2                  1   \n",
              "\n",
              "   numero_empleados  si_no  \n",
              "0                88      0  \n",
              "1                14      0  \n",
              "2              1993      1  \n",
              "3              1338      0  \n",
              "4              1184      1  "
            ],
            "text/html": [
              "\n",
              "  <div id=\"df-13b31911-3460-4896-b697-25162965cd3c\">\n",
              "    <div class=\"colab-df-container\">\n",
              "      <div>\n",
              "<style scoped>\n",
              "    .dataframe tbody tr th:only-of-type {\n",
              "        vertical-align: middle;\n",
              "    }\n",
              "\n",
              "    .dataframe tbody tr th {\n",
              "        vertical-align: top;\n",
              "    }\n",
              "\n",
              "    .dataframe thead th {\n",
              "        text-align: right;\n",
              "    }\n",
              "</style>\n",
              "<table border=\"1\" class=\"dataframe\">\n",
              "  <thead>\n",
              "    <tr style=\"text-align: right;\">\n",
              "      <th></th>\n",
              "      <th>edad</th>\n",
              "      <th>trabajo</th>\n",
              "      <th>estado_civil</th>\n",
              "      <th>educacion</th>\n",
              "      <th>total_hijos</th>\n",
              "      <th>credito_sin_pago</th>\n",
              "      <th>prestamo_vivienda</th>\n",
              "      <th>prestamo_personal</th>\n",
              "      <th>valor_prestamo</th>\n",
              "      <th>dias_ultimo_pago</th>\n",
              "      <th>tarjetas_credito</th>\n",
              "      <th>contacto</th>\n",
              "      <th>mes</th>\n",
              "      <th>dia_semana</th>\n",
              "      <th>duracion_ultimo_contacto</th>\n",
              "      <th>dias_ultimo_contacto</th>\n",
              "      <th>anterior_contacto</th>\n",
              "      <th>numero_empleados</th>\n",
              "      <th>si_no</th>\n",
              "    </tr>\n",
              "  </thead>\n",
              "  <tbody>\n",
              "    <tr>\n",
              "      <th>0</th>\n",
              "      <td>44</td>\n",
              "      <td>blue-collar</td>\n",
              "      <td>married</td>\n",
              "      <td>preschool</td>\n",
              "      <td>7</td>\n",
              "      <td>unknown</td>\n",
              "      <td>yes</td>\n",
              "      <td>no</td>\n",
              "      <td>268017</td>\n",
              "      <td>0</td>\n",
              "      <td>5</td>\n",
              "      <td>cellular</td>\n",
              "      <td>aug</td>\n",
              "      <td>thu</td>\n",
              "      <td>210</td>\n",
              "      <td>43</td>\n",
              "      <td>0</td>\n",
              "      <td>88</td>\n",
              "      <td>0</td>\n",
              "    </tr>\n",
              "    <tr>\n",
              "      <th>1</th>\n",
              "      <td>53</td>\n",
              "      <td>technician</td>\n",
              "      <td>married</td>\n",
              "      <td>unknown</td>\n",
              "      <td>1</td>\n",
              "      <td>no</td>\n",
              "      <td>no</td>\n",
              "      <td>no</td>\n",
              "      <td>0</td>\n",
              "      <td>0</td>\n",
              "      <td>0</td>\n",
              "      <td>cellular</td>\n",
              "      <td>nov</td>\n",
              "      <td>fri</td>\n",
              "      <td>138</td>\n",
              "      <td>0</td>\n",
              "      <td>0</td>\n",
              "      <td>14</td>\n",
              "      <td>0</td>\n",
              "    </tr>\n",
              "    <tr>\n",
              "      <th>2</th>\n",
              "      <td>28</td>\n",
              "      <td>management</td>\n",
              "      <td>single</td>\n",
              "      <td>university.degree</td>\n",
              "      <td>3</td>\n",
              "      <td>no</td>\n",
              "      <td>yes</td>\n",
              "      <td>no</td>\n",
              "      <td>308036</td>\n",
              "      <td>0</td>\n",
              "      <td>0</td>\n",
              "      <td>cellular</td>\n",
              "      <td>jun</td>\n",
              "      <td>thu</td>\n",
              "      <td>339</td>\n",
              "      <td>27</td>\n",
              "      <td>2</td>\n",
              "      <td>1993</td>\n",
              "      <td>1</td>\n",
              "    </tr>\n",
              "    <tr>\n",
              "      <th>3</th>\n",
              "      <td>39</td>\n",
              "      <td>services</td>\n",
              "      <td>married</td>\n",
              "      <td>Technological_school</td>\n",
              "      <td>1</td>\n",
              "      <td>no</td>\n",
              "      <td>no</td>\n",
              "      <td>no</td>\n",
              "      <td>0</td>\n",
              "      <td>0</td>\n",
              "      <td>4</td>\n",
              "      <td>cellular</td>\n",
              "      <td>apr</td>\n",
              "      <td>fri</td>\n",
              "      <td>185</td>\n",
              "      <td>0</td>\n",
              "      <td>0</td>\n",
              "      <td>1338</td>\n",
              "      <td>0</td>\n",
              "    </tr>\n",
              "    <tr>\n",
              "      <th>4</th>\n",
              "      <td>55</td>\n",
              "      <td>retired</td>\n",
              "      <td>married</td>\n",
              "      <td>preschool</td>\n",
              "      <td>2</td>\n",
              "      <td>no</td>\n",
              "      <td>yes</td>\n",
              "      <td>no</td>\n",
              "      <td>249888</td>\n",
              "      <td>0</td>\n",
              "      <td>4</td>\n",
              "      <td>cellular</td>\n",
              "      <td>aug</td>\n",
              "      <td>fri</td>\n",
              "      <td>137</td>\n",
              "      <td>2</td>\n",
              "      <td>1</td>\n",
              "      <td>1184</td>\n",
              "      <td>1</td>\n",
              "    </tr>\n",
              "  </tbody>\n",
              "</table>\n",
              "</div>\n",
              "      <button class=\"colab-df-convert\" onclick=\"convertToInteractive('df-13b31911-3460-4896-b697-25162965cd3c')\"\n",
              "              title=\"Convert this dataframe to an interactive table.\"\n",
              "              style=\"display:none;\">\n",
              "        \n",
              "  <svg xmlns=\"http://www.w3.org/2000/svg\" height=\"24px\"viewBox=\"0 0 24 24\"\n",
              "       width=\"24px\">\n",
              "    <path d=\"M0 0h24v24H0V0z\" fill=\"none\"/>\n",
              "    <path d=\"M18.56 5.44l.94 2.06.94-2.06 2.06-.94-2.06-.94-.94-2.06-.94 2.06-2.06.94zm-11 1L8.5 8.5l.94-2.06 2.06-.94-2.06-.94L8.5 2.5l-.94 2.06-2.06.94zm10 10l.94 2.06.94-2.06 2.06-.94-2.06-.94-.94-2.06-.94 2.06-2.06.94z\"/><path d=\"M17.41 7.96l-1.37-1.37c-.4-.4-.92-.59-1.43-.59-.52 0-1.04.2-1.43.59L10.3 9.45l-7.72 7.72c-.78.78-.78 2.05 0 2.83L4 21.41c.39.39.9.59 1.41.59.51 0 1.02-.2 1.41-.59l7.78-7.78 2.81-2.81c.8-.78.8-2.07 0-2.86zM5.41 20L4 18.59l7.72-7.72 1.47 1.35L5.41 20z\"/>\n",
              "  </svg>\n",
              "      </button>\n",
              "      \n",
              "  <style>\n",
              "    .colab-df-container {\n",
              "      display:flex;\n",
              "      flex-wrap:wrap;\n",
              "      gap: 12px;\n",
              "    }\n",
              "\n",
              "    .colab-df-convert {\n",
              "      background-color: #E8F0FE;\n",
              "      border: none;\n",
              "      border-radius: 50%;\n",
              "      cursor: pointer;\n",
              "      display: none;\n",
              "      fill: #1967D2;\n",
              "      height: 32px;\n",
              "      padding: 0 0 0 0;\n",
              "      width: 32px;\n",
              "    }\n",
              "\n",
              "    .colab-df-convert:hover {\n",
              "      background-color: #E2EBFA;\n",
              "      box-shadow: 0px 1px 2px rgba(60, 64, 67, 0.3), 0px 1px 3px 1px rgba(60, 64, 67, 0.15);\n",
              "      fill: #174EA6;\n",
              "    }\n",
              "\n",
              "    [theme=dark] .colab-df-convert {\n",
              "      background-color: #3B4455;\n",
              "      fill: #D2E3FC;\n",
              "    }\n",
              "\n",
              "    [theme=dark] .colab-df-convert:hover {\n",
              "      background-color: #434B5C;\n",
              "      box-shadow: 0px 1px 3px 1px rgba(0, 0, 0, 0.15);\n",
              "      filter: drop-shadow(0px 1px 2px rgba(0, 0, 0, 0.3));\n",
              "      fill: #FFFFFF;\n",
              "    }\n",
              "  </style>\n",
              "\n",
              "      <script>\n",
              "        const buttonEl =\n",
              "          document.querySelector('#df-13b31911-3460-4896-b697-25162965cd3c button.colab-df-convert');\n",
              "        buttonEl.style.display =\n",
              "          google.colab.kernel.accessAllowed ? 'block' : 'none';\n",
              "\n",
              "        async function convertToInteractive(key) {\n",
              "          const element = document.querySelector('#df-13b31911-3460-4896-b697-25162965cd3c');\n",
              "          const dataTable =\n",
              "            await google.colab.kernel.invokeFunction('convertToInteractive',\n",
              "                                                     [key], {});\n",
              "          if (!dataTable) return;\n",
              "\n",
              "          const docLinkHtml = 'Like what you see? Visit the ' +\n",
              "            '<a target=\"_blank\" href=https://colab.research.google.com/notebooks/data_table.ipynb>data table notebook</a>'\n",
              "            + ' to learn more about interactive tables.';\n",
              "          element.innerHTML = '';\n",
              "          dataTable['output_type'] = 'display_data';\n",
              "          await google.colab.output.renderOutput(dataTable, element);\n",
              "          const docLink = document.createElement('div');\n",
              "          docLink.innerHTML = docLinkHtml;\n",
              "          element.appendChild(docLink);\n",
              "        }\n",
              "      </script>\n",
              "    </div>\n",
              "  </div>\n",
              "  "
            ]
          },
          "metadata": {},
          "execution_count": 48
        }
      ]
    },
    {
      "cell_type": "code",
      "source": [
        "df_bm.info()"
      ],
      "metadata": {
        "colab": {
          "base_uri": "https://localhost:8080/"
        },
        "id": "i4LEU_jGRuVq",
        "outputId": "448f5e6c-2785-4d7d-a8a0-cc5739001713"
      },
      "execution_count": 49,
      "outputs": [
        {
          "output_type": "stream",
          "name": "stdout",
          "text": [
            "<class 'pandas.core.frame.DataFrame'>\n",
            "RangeIndex: 41188 entries, 0 to 41187\n",
            "Data columns (total 19 columns):\n",
            " #   Column                    Non-Null Count  Dtype \n",
            "---  ------                    --------------  ----- \n",
            " 0   edad                      41188 non-null  int64 \n",
            " 1   trabajo                   41188 non-null  object\n",
            " 2   estado_civil              41188 non-null  object\n",
            " 3   educacion                 41188 non-null  object\n",
            " 4   total_hijos               41188 non-null  int64 \n",
            " 5   credito_sin_pago          41188 non-null  object\n",
            " 6   prestamo_vivienda         41188 non-null  object\n",
            " 7   prestamo_personal         41188 non-null  object\n",
            " 8   valor_prestamo            41188 non-null  int64 \n",
            " 9   dias_ultimo_pago          41188 non-null  int64 \n",
            " 10  tarjetas_credito          41188 non-null  int64 \n",
            " 11  contacto                  41188 non-null  object\n",
            " 12  mes                       41188 non-null  object\n",
            " 13  dia_semana                41188 non-null  object\n",
            " 14  duracion_ultimo_contacto  41188 non-null  int64 \n",
            " 15  dias_ultimo_contacto      41188 non-null  int64 \n",
            " 16  anterior_contacto         41188 non-null  int64 \n",
            " 17  numero_empleados          41188 non-null  int64 \n",
            " 18  si_no                     41188 non-null  int64 \n",
            "dtypes: int64(10), object(9)\n",
            "memory usage: 6.0+ MB\n"
          ]
        }
      ]
    },
    {
      "cell_type": "markdown",
      "source": [
        "###P2.1 conociendo la data y corrigiendola"
      ],
      "metadata": {
        "id": "9URL8YrRSu9l"
      }
    },
    {
      "cell_type": "code",
      "source": [
        "trabajo = {\n",
        "    'unknown': 0,\n",
        "    'admin.': 1, \n",
        "    'housemaid': 2, \n",
        "    'management': 3, \n",
        "    'retired': 4, \n",
        "    'self-employed': 5, \n",
        "    'student': 6, \n",
        "    'technician': 7, \n",
        "    'unemployed': 8,\n",
        "    'blue-collar': 9,\n",
        "    'services': 10,\n",
        "    'entrepreneur': 11\n",
        "    }\n",
        "df_bm['trabajo'] = df_bm['trabajo'].map(trabajo)"
      ],
      "metadata": {
        "id": "xjQEZnbfWGCW"
      },
      "execution_count": 50,
      "outputs": []
    },
    {
      "cell_type": "code",
      "source": [
        "estado_civil = {\n",
        "    'unknown': 0,\n",
        "    'single': 1,\n",
        "    'married': 2,\n",
        "    'divorced' : 3\n",
        "    }\n",
        "df_bm['estado_civil '] = df_bm['estado_civil '].map(estado_civil)"
      ],
      "metadata": {
        "id": "kMZEfMYtWNNt"
      },
      "execution_count": 51,
      "outputs": []
    },
    {
      "cell_type": "code",
      "source": [
        "educacion = {\n",
        "    'unknown': 0,\n",
        "    'preschool': 1,\n",
        "    'primary_school': 2,\n",
        "    'tecnical_school': 3,\n",
        "    'Technological_school': 4,\n",
        "    'illiterate': 5,\n",
        "    'professional.course': 6,\n",
        "    'university.degree': 7\n",
        "}\n",
        "df_bm['educacion'] = df_bm['educacion'].map(educacion)"
      ],
      "metadata": {
        "id": "oWEz7WRGWPn0"
      },
      "execution_count": 52,
      "outputs": []
    },
    {
      "cell_type": "code",
      "source": [
        "credito_sin_pago = {\n",
        "    'no': 0,\n",
        "    'yes': 1,\n",
        "    'unknown': 2\n",
        "}\n",
        "df_bm['credito_sin_pago'] = df_bm['credito_sin_pago'].map(credito_sin_pago)"
      ],
      "metadata": {
        "id": "HMzvuNDcWTbR"
      },
      "execution_count": 53,
      "outputs": []
    },
    {
      "cell_type": "code",
      "source": [
        "prestamo_vivienda = {\n",
        "    'no': 0,\n",
        "    'yes': 1,\n",
        "    'unknown': 2\n",
        "}\n",
        "df_bm['prestamo_vivienda'] = df_bm['prestamo_vivienda'].map(prestamo_vivienda)"
      ],
      "metadata": {
        "id": "Ec6-WROkWUJN"
      },
      "execution_count": 54,
      "outputs": []
    },
    {
      "cell_type": "code",
      "source": [
        "prestamo_personal = {\n",
        "    'no': 0,\n",
        "    'yes': 1,\n",
        "    'unknown': 2\n",
        "}\n",
        "df_bm['prestamo_personal'] = df_bm['prestamo_personal'].map(prestamo_personal)"
      ],
      "metadata": {
        "id": "0EDxqOidWXyi"
      },
      "execution_count": 55,
      "outputs": []
    },
    {
      "cell_type": "code",
      "source": [
        "contacto = {\n",
        "    'cellular': 1,\n",
        "    'telephone': 2,\n",
        "}\n",
        "df_bm['contacto'] = df_bm['contacto'].map(contacto)"
      ],
      "metadata": {
        "id": "4etHk2uhWYgx"
      },
      "execution_count": 56,
      "outputs": []
    },
    {
      "cell_type": "code",
      "source": [
        "mes = {\n",
        "    'jan': 1,\n",
        "    'feb': 2,\n",
        "    'mar': 3,\n",
        "    'apr': 4,\n",
        "    'may': 5,\n",
        "    'jun': 6,\n",
        "    'jul': 7,\n",
        "    'aug': 8,\n",
        "    'sep': 9,\n",
        "    'oct': 10,\n",
        "    'nov': 11,\n",
        "    'dec': 12\n",
        "}\n",
        "df_bm['mes'] = df_bm['mes'].map(mes)"
      ],
      "metadata": {
        "id": "iVkkS3epWZ_T"
      },
      "execution_count": 57,
      "outputs": []
    },
    {
      "cell_type": "code",
      "source": [
        "dia_semana = {\n",
        "    'sun': 1,\n",
        "    'mon': 2,\n",
        "    'tue': 3,\n",
        "    'wed': 4,\n",
        "    'thu': 5,\n",
        "    'fri': 6,\n",
        "    'sat': 7\n",
        "}\n",
        "df_bm['dia_semana'] = df_bm['dia_semana'].map(dia_semana)"
      ],
      "metadata": {
        "id": "KRNW1gIyWcBZ"
      },
      "execution_count": 58,
      "outputs": []
    },
    {
      "cell_type": "code",
      "source": [
        "df_bm.head()"
      ],
      "metadata": {
        "colab": {
          "base_uri": "https://localhost:8080/",
          "height": 270
        },
        "id": "q0HX4gpSSyUy",
        "outputId": "5b78158a-6d0a-47e4-9193-dfbc27016aef"
      },
      "execution_count": 59,
      "outputs": [
        {
          "output_type": "execute_result",
          "data": {
            "text/plain": [
              "   edad  trabajo  estado_civil   educacion  total_hijos  credito_sin_pago  \\\n",
              "0    44        9              2          1            7                 2   \n",
              "1    53        7              2          0            1                 0   \n",
              "2    28        3              1          7            3                 0   \n",
              "3    39       10              2          4            1                 0   \n",
              "4    55        4              2          1            2                 0   \n",
              "\n",
              "   prestamo_vivienda  prestamo_personal  valor_prestamo  dias_ultimo_pago  \\\n",
              "0                  1                  0          268017                 0   \n",
              "1                  0                  0               0                 0   \n",
              "2                  1                  0          308036                 0   \n",
              "3                  0                  0               0                 0   \n",
              "4                  1                  0          249888                 0   \n",
              "\n",
              "   tarjetas_credito  contacto  mes  dia_semana  duracion_ultimo_contacto  \\\n",
              "0                 5         1    8           5                       210   \n",
              "1                 0         1   11           6                       138   \n",
              "2                 0         1    6           5                       339   \n",
              "3                 4         1    4           6                       185   \n",
              "4                 4         1    8           6                       137   \n",
              "\n",
              "   dias_ultimo_contacto  anterior_contacto  numero_empleados  si_no  \n",
              "0                    43                  0                88      0  \n",
              "1                     0                  0                14      0  \n",
              "2                    27                  2              1993      1  \n",
              "3                     0                  0              1338      0  \n",
              "4                     2                  1              1184      1  "
            ],
            "text/html": [
              "\n",
              "  <div id=\"df-9b3feefb-6cf7-4815-931c-f43f2ef1cbbb\">\n",
              "    <div class=\"colab-df-container\">\n",
              "      <div>\n",
              "<style scoped>\n",
              "    .dataframe tbody tr th:only-of-type {\n",
              "        vertical-align: middle;\n",
              "    }\n",
              "\n",
              "    .dataframe tbody tr th {\n",
              "        vertical-align: top;\n",
              "    }\n",
              "\n",
              "    .dataframe thead th {\n",
              "        text-align: right;\n",
              "    }\n",
              "</style>\n",
              "<table border=\"1\" class=\"dataframe\">\n",
              "  <thead>\n",
              "    <tr style=\"text-align: right;\">\n",
              "      <th></th>\n",
              "      <th>edad</th>\n",
              "      <th>trabajo</th>\n",
              "      <th>estado_civil</th>\n",
              "      <th>educacion</th>\n",
              "      <th>total_hijos</th>\n",
              "      <th>credito_sin_pago</th>\n",
              "      <th>prestamo_vivienda</th>\n",
              "      <th>prestamo_personal</th>\n",
              "      <th>valor_prestamo</th>\n",
              "      <th>dias_ultimo_pago</th>\n",
              "      <th>tarjetas_credito</th>\n",
              "      <th>contacto</th>\n",
              "      <th>mes</th>\n",
              "      <th>dia_semana</th>\n",
              "      <th>duracion_ultimo_contacto</th>\n",
              "      <th>dias_ultimo_contacto</th>\n",
              "      <th>anterior_contacto</th>\n",
              "      <th>numero_empleados</th>\n",
              "      <th>si_no</th>\n",
              "    </tr>\n",
              "  </thead>\n",
              "  <tbody>\n",
              "    <tr>\n",
              "      <th>0</th>\n",
              "      <td>44</td>\n",
              "      <td>9</td>\n",
              "      <td>2</td>\n",
              "      <td>1</td>\n",
              "      <td>7</td>\n",
              "      <td>2</td>\n",
              "      <td>1</td>\n",
              "      <td>0</td>\n",
              "      <td>268017</td>\n",
              "      <td>0</td>\n",
              "      <td>5</td>\n",
              "      <td>1</td>\n",
              "      <td>8</td>\n",
              "      <td>5</td>\n",
              "      <td>210</td>\n",
              "      <td>43</td>\n",
              "      <td>0</td>\n",
              "      <td>88</td>\n",
              "      <td>0</td>\n",
              "    </tr>\n",
              "    <tr>\n",
              "      <th>1</th>\n",
              "      <td>53</td>\n",
              "      <td>7</td>\n",
              "      <td>2</td>\n",
              "      <td>0</td>\n",
              "      <td>1</td>\n",
              "      <td>0</td>\n",
              "      <td>0</td>\n",
              "      <td>0</td>\n",
              "      <td>0</td>\n",
              "      <td>0</td>\n",
              "      <td>0</td>\n",
              "      <td>1</td>\n",
              "      <td>11</td>\n",
              "      <td>6</td>\n",
              "      <td>138</td>\n",
              "      <td>0</td>\n",
              "      <td>0</td>\n",
              "      <td>14</td>\n",
              "      <td>0</td>\n",
              "    </tr>\n",
              "    <tr>\n",
              "      <th>2</th>\n",
              "      <td>28</td>\n",
              "      <td>3</td>\n",
              "      <td>1</td>\n",
              "      <td>7</td>\n",
              "      <td>3</td>\n",
              "      <td>0</td>\n",
              "      <td>1</td>\n",
              "      <td>0</td>\n",
              "      <td>308036</td>\n",
              "      <td>0</td>\n",
              "      <td>0</td>\n",
              "      <td>1</td>\n",
              "      <td>6</td>\n",
              "      <td>5</td>\n",
              "      <td>339</td>\n",
              "      <td>27</td>\n",
              "      <td>2</td>\n",
              "      <td>1993</td>\n",
              "      <td>1</td>\n",
              "    </tr>\n",
              "    <tr>\n",
              "      <th>3</th>\n",
              "      <td>39</td>\n",
              "      <td>10</td>\n",
              "      <td>2</td>\n",
              "      <td>4</td>\n",
              "      <td>1</td>\n",
              "      <td>0</td>\n",
              "      <td>0</td>\n",
              "      <td>0</td>\n",
              "      <td>0</td>\n",
              "      <td>0</td>\n",
              "      <td>4</td>\n",
              "      <td>1</td>\n",
              "      <td>4</td>\n",
              "      <td>6</td>\n",
              "      <td>185</td>\n",
              "      <td>0</td>\n",
              "      <td>0</td>\n",
              "      <td>1338</td>\n",
              "      <td>0</td>\n",
              "    </tr>\n",
              "    <tr>\n",
              "      <th>4</th>\n",
              "      <td>55</td>\n",
              "      <td>4</td>\n",
              "      <td>2</td>\n",
              "      <td>1</td>\n",
              "      <td>2</td>\n",
              "      <td>0</td>\n",
              "      <td>1</td>\n",
              "      <td>0</td>\n",
              "      <td>249888</td>\n",
              "      <td>0</td>\n",
              "      <td>4</td>\n",
              "      <td>1</td>\n",
              "      <td>8</td>\n",
              "      <td>6</td>\n",
              "      <td>137</td>\n",
              "      <td>2</td>\n",
              "      <td>1</td>\n",
              "      <td>1184</td>\n",
              "      <td>1</td>\n",
              "    </tr>\n",
              "  </tbody>\n",
              "</table>\n",
              "</div>\n",
              "      <button class=\"colab-df-convert\" onclick=\"convertToInteractive('df-9b3feefb-6cf7-4815-931c-f43f2ef1cbbb')\"\n",
              "              title=\"Convert this dataframe to an interactive table.\"\n",
              "              style=\"display:none;\">\n",
              "        \n",
              "  <svg xmlns=\"http://www.w3.org/2000/svg\" height=\"24px\"viewBox=\"0 0 24 24\"\n",
              "       width=\"24px\">\n",
              "    <path d=\"M0 0h24v24H0V0z\" fill=\"none\"/>\n",
              "    <path d=\"M18.56 5.44l.94 2.06.94-2.06 2.06-.94-2.06-.94-.94-2.06-.94 2.06-2.06.94zm-11 1L8.5 8.5l.94-2.06 2.06-.94-2.06-.94L8.5 2.5l-.94 2.06-2.06.94zm10 10l.94 2.06.94-2.06 2.06-.94-2.06-.94-.94-2.06-.94 2.06-2.06.94z\"/><path d=\"M17.41 7.96l-1.37-1.37c-.4-.4-.92-.59-1.43-.59-.52 0-1.04.2-1.43.59L10.3 9.45l-7.72 7.72c-.78.78-.78 2.05 0 2.83L4 21.41c.39.39.9.59 1.41.59.51 0 1.02-.2 1.41-.59l7.78-7.78 2.81-2.81c.8-.78.8-2.07 0-2.86zM5.41 20L4 18.59l7.72-7.72 1.47 1.35L5.41 20z\"/>\n",
              "  </svg>\n",
              "      </button>\n",
              "      \n",
              "  <style>\n",
              "    .colab-df-container {\n",
              "      display:flex;\n",
              "      flex-wrap:wrap;\n",
              "      gap: 12px;\n",
              "    }\n",
              "\n",
              "    .colab-df-convert {\n",
              "      background-color: #E8F0FE;\n",
              "      border: none;\n",
              "      border-radius: 50%;\n",
              "      cursor: pointer;\n",
              "      display: none;\n",
              "      fill: #1967D2;\n",
              "      height: 32px;\n",
              "      padding: 0 0 0 0;\n",
              "      width: 32px;\n",
              "    }\n",
              "\n",
              "    .colab-df-convert:hover {\n",
              "      background-color: #E2EBFA;\n",
              "      box-shadow: 0px 1px 2px rgba(60, 64, 67, 0.3), 0px 1px 3px 1px rgba(60, 64, 67, 0.15);\n",
              "      fill: #174EA6;\n",
              "    }\n",
              "\n",
              "    [theme=dark] .colab-df-convert {\n",
              "      background-color: #3B4455;\n",
              "      fill: #D2E3FC;\n",
              "    }\n",
              "\n",
              "    [theme=dark] .colab-df-convert:hover {\n",
              "      background-color: #434B5C;\n",
              "      box-shadow: 0px 1px 3px 1px rgba(0, 0, 0, 0.15);\n",
              "      filter: drop-shadow(0px 1px 2px rgba(0, 0, 0, 0.3));\n",
              "      fill: #FFFFFF;\n",
              "    }\n",
              "  </style>\n",
              "\n",
              "      <script>\n",
              "        const buttonEl =\n",
              "          document.querySelector('#df-9b3feefb-6cf7-4815-931c-f43f2ef1cbbb button.colab-df-convert');\n",
              "        buttonEl.style.display =\n",
              "          google.colab.kernel.accessAllowed ? 'block' : 'none';\n",
              "\n",
              "        async function convertToInteractive(key) {\n",
              "          const element = document.querySelector('#df-9b3feefb-6cf7-4815-931c-f43f2ef1cbbb');\n",
              "          const dataTable =\n",
              "            await google.colab.kernel.invokeFunction('convertToInteractive',\n",
              "                                                     [key], {});\n",
              "          if (!dataTable) return;\n",
              "\n",
              "          const docLinkHtml = 'Like what you see? Visit the ' +\n",
              "            '<a target=\"_blank\" href=https://colab.research.google.com/notebooks/data_table.ipynb>data table notebook</a>'\n",
              "            + ' to learn more about interactive tables.';\n",
              "          element.innerHTML = '';\n",
              "          dataTable['output_type'] = 'display_data';\n",
              "          await google.colab.output.renderOutput(dataTable, element);\n",
              "          const docLink = document.createElement('div');\n",
              "          docLink.innerHTML = docLinkHtml;\n",
              "          element.appendChild(docLink);\n",
              "        }\n",
              "      </script>\n",
              "    </div>\n",
              "  </div>\n",
              "  "
            ]
          },
          "metadata": {},
          "execution_count": 59
        }
      ]
    },
    {
      "cell_type": "markdown",
      "source": [
        "* Ya se tiene un estandar de datos para hacer el entrenamiento del modelo utilizando Deep Learning"
      ],
      "metadata": {
        "id": "gXQg6ujdRrr0"
      }
    },
    {
      "cell_type": "markdown",
      "source": [
        "##P3. Dividir los datos de entrada y salida (categoria).\n"
      ],
      "metadata": {
        "id": "w4394zxha-HR"
      }
    },
    {
      "cell_type": "code",
      "source": [
        "X = df_bm[['edad','trabajo','educacion']] #valores de entrada, la capa de entrada de la red neuronal depende de la cantidad de valores a predecir en este caso 1 neurona\n",
        "y = df_bm['si_no']\n",
        "X.info()"
      ],
      "metadata": {
        "colab": {
          "base_uri": "https://localhost:8080/"
        },
        "id": "aWDK2vD6YYYR",
        "outputId": "b91de508-d80a-48d6-ea29-e77336b43563"
      },
      "execution_count": 73,
      "outputs": [
        {
          "output_type": "stream",
          "name": "stdout",
          "text": [
            "<class 'pandas.core.frame.DataFrame'>\n",
            "RangeIndex: 41188 entries, 0 to 41187\n",
            "Data columns (total 3 columns):\n",
            " #   Column     Non-Null Count  Dtype\n",
            "---  ------     --------------  -----\n",
            " 0   edad       41188 non-null  int64\n",
            " 1   trabajo    41188 non-null  int64\n",
            " 2   educacion  41188 non-null  int64\n",
            "dtypes: int64(3)\n",
            "memory usage: 965.5 KB\n"
          ]
        }
      ]
    },
    {
      "cell_type": "code",
      "source": [
        "X_train,X_test,Y_train,Y_test = train_test_split(X,y,test_size=0.25,random_state=42)"
      ],
      "metadata": {
        "id": "6XetZ8YtbDeO"
      },
      "execution_count": 74,
      "outputs": []
    },
    {
      "cell_type": "markdown",
      "source": [
        "##P4. creando el modelo"
      ],
      "metadata": {
        "id": "u6ioQVYSbp3r"
      }
    },
    {
      "cell_type": "code",
      "source": [
        "# crea el modelo\n",
        "model3 = Sequential()\n",
        "model3.add(Dense(6, input_dim=3, activation='relu'))   #dos capas en una(1° con 1 neuronas (caracteristicas de entrada), 2° con 12 neuronas  )\n",
        "model3.add(Dense(12, activation='relu'))\n",
        "model3.add(Dense(24, activation='relu'))\n",
        "model3.add(Dense(1, activation='sigmoid'))  #al ser una clasificación binaria usaremos sigmoidal\n",
        "model3.summary()"
      ],
      "metadata": {
        "colab": {
          "base_uri": "https://localhost:8080/"
        },
        "id": "ggVFPCdHbrIM",
        "outputId": "84336496-8087-4101-e7b5-200605598ccd"
      },
      "execution_count": 75,
      "outputs": [
        {
          "output_type": "stream",
          "name": "stdout",
          "text": [
            "Model: \"sequential_3\"\n",
            "_________________________________________________________________\n",
            " Layer (type)                Output Shape              Param #   \n",
            "=================================================================\n",
            " dense_12 (Dense)            (None, 6)                 24        \n",
            "                                                                 \n",
            " dense_13 (Dense)            (None, 12)                84        \n",
            "                                                                 \n",
            " dense_14 (Dense)            (None, 24)                312       \n",
            "                                                                 \n",
            " dense_15 (Dense)            (None, 1)                 25        \n",
            "                                                                 \n",
            "=================================================================\n",
            "Total params: 445\n",
            "Trainable params: 445\n",
            "Non-trainable params: 0\n",
            "_________________________________________________________________\n"
          ]
        }
      ]
    },
    {
      "cell_type": "markdown",
      "source": [
        "##P5. compilando modelo"
      ],
      "metadata": {
        "id": "-05pTmfheGKl"
      }
    },
    {
      "cell_type": "code",
      "source": [
        "model3.compile(loss='binary_crossentropy',optimizer='adam', metrics=['acc'])"
      ],
      "metadata": {
        "id": "fXx7sdqYeHL6"
      },
      "execution_count": 76,
      "outputs": []
    },
    {
      "cell_type": "markdown",
      "source": [
        "##P6. Entrenando modelo"
      ],
      "metadata": {
        "id": "dbH9Sy7leL2H"
      }
    },
    {
      "cell_type": "code",
      "source": [
        "historial= model3.fit(X_train, Y_train, epochs=100, batch_size=10)"
      ],
      "metadata": {
        "colab": {
          "base_uri": "https://localhost:8080/"
        },
        "id": "1GdIfc5EeNof",
        "outputId": "16f1f797-c3da-4dc0-d119-7e2e58080f85"
      },
      "execution_count": 77,
      "outputs": [
        {
          "output_type": "stream",
          "name": "stdout",
          "text": [
            "Epoch 1/100\n",
            "3090/3090 [==============================] - 6s 2ms/step - loss: 0.3915 - acc: 0.8806\n",
            "Epoch 2/100\n",
            "3090/3090 [==============================] - 5s 2ms/step - loss: 0.3547 - acc: 0.8882\n",
            "Epoch 3/100\n",
            "3090/3090 [==============================] - 5s 2ms/step - loss: 0.3515 - acc: 0.8882\n",
            "Epoch 4/100\n",
            "3090/3090 [==============================] - 5s 2ms/step - loss: 0.3481 - acc: 0.8882\n",
            "Epoch 5/100\n",
            "3090/3090 [==============================] - 5s 2ms/step - loss: 0.3448 - acc: 0.8881\n",
            "Epoch 6/100\n",
            "3090/3090 [==============================] - 5s 2ms/step - loss: 0.3428 - acc: 0.8882\n",
            "Epoch 7/100\n",
            "3090/3090 [==============================] - 5s 2ms/step - loss: 0.3417 - acc: 0.8881\n",
            "Epoch 8/100\n",
            "3090/3090 [==============================] - 5s 2ms/step - loss: 0.3409 - acc: 0.8882\n",
            "Epoch 9/100\n",
            "3090/3090 [==============================] - 5s 2ms/step - loss: 0.3403 - acc: 0.8886\n",
            "Epoch 10/100\n",
            "3090/3090 [==============================] - 5s 2ms/step - loss: 0.3403 - acc: 0.8885\n",
            "Epoch 11/100\n",
            "3090/3090 [==============================] - 5s 2ms/step - loss: 0.3397 - acc: 0.8884\n",
            "Epoch 12/100\n",
            "3090/3090 [==============================] - 5s 2ms/step - loss: 0.3393 - acc: 0.8886\n",
            "Epoch 13/100\n",
            "3090/3090 [==============================] - 5s 2ms/step - loss: 0.3388 - acc: 0.8881\n",
            "Epoch 14/100\n",
            "3090/3090 [==============================] - 5s 2ms/step - loss: 0.3377 - acc: 0.8884\n",
            "Epoch 15/100\n",
            "3090/3090 [==============================] - 5s 2ms/step - loss: 0.3373 - acc: 0.8885\n",
            "Epoch 16/100\n",
            "3090/3090 [==============================] - 5s 2ms/step - loss: 0.3375 - acc: 0.8886\n",
            "Epoch 17/100\n",
            "3090/3090 [==============================] - 5s 2ms/step - loss: 0.3370 - acc: 0.8885\n",
            "Epoch 18/100\n",
            "3090/3090 [==============================] - 5s 2ms/step - loss: 0.3368 - acc: 0.8882\n",
            "Epoch 19/100\n",
            "3090/3090 [==============================] - 5s 2ms/step - loss: 0.3374 - acc: 0.8879\n",
            "Epoch 20/100\n",
            "3090/3090 [==============================] - 5s 2ms/step - loss: 0.3370 - acc: 0.8885\n",
            "Epoch 21/100\n",
            "3090/3090 [==============================] - 5s 2ms/step - loss: 0.3369 - acc: 0.8884\n",
            "Epoch 22/100\n",
            "3090/3090 [==============================] - 5s 2ms/step - loss: 0.3369 - acc: 0.8880\n",
            "Epoch 23/100\n",
            "3090/3090 [==============================] - 5s 2ms/step - loss: 0.3368 - acc: 0.8881\n",
            "Epoch 24/100\n",
            "3090/3090 [==============================] - 5s 2ms/step - loss: 0.3367 - acc: 0.8882\n",
            "Epoch 25/100\n",
            "3090/3090 [==============================] - 5s 2ms/step - loss: 0.3368 - acc: 0.8885\n",
            "Epoch 26/100\n",
            "3090/3090 [==============================] - 5s 2ms/step - loss: 0.3372 - acc: 0.8882\n",
            "Epoch 27/100\n",
            "3090/3090 [==============================] - 5s 2ms/step - loss: 0.3366 - acc: 0.8887\n",
            "Epoch 28/100\n",
            "3090/3090 [==============================] - 5s 2ms/step - loss: 0.3367 - acc: 0.8878\n",
            "Epoch 29/100\n",
            "3090/3090 [==============================] - 5s 2ms/step - loss: 0.3367 - acc: 0.8885\n",
            "Epoch 30/100\n",
            "3090/3090 [==============================] - 5s 2ms/step - loss: 0.3367 - acc: 0.8882\n",
            "Epoch 31/100\n",
            "3090/3090 [==============================] - 5s 2ms/step - loss: 0.3367 - acc: 0.8881\n",
            "Epoch 32/100\n",
            "3090/3090 [==============================] - 5s 2ms/step - loss: 0.3365 - acc: 0.8884\n",
            "Epoch 33/100\n",
            "3090/3090 [==============================] - 5s 2ms/step - loss: 0.3366 - acc: 0.8884\n",
            "Epoch 34/100\n",
            "3090/3090 [==============================] - 5s 2ms/step - loss: 0.3366 - acc: 0.8880\n",
            "Epoch 35/100\n",
            "3090/3090 [==============================] - 5s 2ms/step - loss: 0.3367 - acc: 0.8881\n",
            "Epoch 36/100\n",
            "3090/3090 [==============================] - 5s 2ms/step - loss: 0.3364 - acc: 0.8884\n",
            "Epoch 37/100\n",
            "3090/3090 [==============================] - 5s 2ms/step - loss: 0.3367 - acc: 0.8883\n",
            "Epoch 38/100\n",
            "3090/3090 [==============================] - 5s 2ms/step - loss: 0.3364 - acc: 0.8879\n",
            "Epoch 39/100\n",
            "3090/3090 [==============================] - 5s 2ms/step - loss: 0.3367 - acc: 0.8886\n",
            "Epoch 40/100\n",
            "3090/3090 [==============================] - 5s 2ms/step - loss: 0.3367 - acc: 0.8880\n",
            "Epoch 41/100\n",
            "3090/3090 [==============================] - 5s 2ms/step - loss: 0.3361 - acc: 0.8882\n",
            "Epoch 42/100\n",
            "3090/3090 [==============================] - 5s 2ms/step - loss: 0.3368 - acc: 0.8883\n",
            "Epoch 43/100\n",
            "3090/3090 [==============================] - 5s 2ms/step - loss: 0.3363 - acc: 0.8881\n",
            "Epoch 44/100\n",
            "3090/3090 [==============================] - 5s 2ms/step - loss: 0.3365 - acc: 0.8882\n",
            "Epoch 45/100\n",
            "3090/3090 [==============================] - 5s 2ms/step - loss: 0.3363 - acc: 0.8883\n",
            "Epoch 46/100\n",
            "3090/3090 [==============================] - 5s 2ms/step - loss: 0.3366 - acc: 0.8887\n",
            "Epoch 47/100\n",
            "3090/3090 [==============================] - 5s 2ms/step - loss: 0.3364 - acc: 0.8888\n",
            "Epoch 48/100\n",
            "3090/3090 [==============================] - 5s 2ms/step - loss: 0.3365 - acc: 0.8882\n",
            "Epoch 49/100\n",
            "3090/3090 [==============================] - 5s 2ms/step - loss: 0.3363 - acc: 0.8884\n",
            "Epoch 50/100\n",
            "3090/3090 [==============================] - 5s 2ms/step - loss: 0.3365 - acc: 0.8886\n",
            "Epoch 51/100\n",
            "3090/3090 [==============================] - 5s 2ms/step - loss: 0.3365 - acc: 0.8881\n",
            "Epoch 52/100\n",
            "3090/3090 [==============================] - 5s 2ms/step - loss: 0.3366 - acc: 0.8887\n",
            "Epoch 53/100\n",
            "3090/3090 [==============================] - 5s 2ms/step - loss: 0.3358 - acc: 0.8887\n",
            "Epoch 54/100\n",
            "3090/3090 [==============================] - 5s 2ms/step - loss: 0.3365 - acc: 0.8887\n",
            "Epoch 55/100\n",
            "3090/3090 [==============================] - 5s 2ms/step - loss: 0.3365 - acc: 0.8885\n",
            "Epoch 56/100\n",
            "3090/3090 [==============================] - 5s 2ms/step - loss: 0.3369 - acc: 0.8886\n",
            "Epoch 57/100\n",
            "3090/3090 [==============================] - 5s 2ms/step - loss: 0.3369 - acc: 0.8880\n",
            "Epoch 58/100\n",
            "3090/3090 [==============================] - 5s 2ms/step - loss: 0.3363 - acc: 0.8886\n",
            "Epoch 59/100\n",
            "3090/3090 [==============================] - 5s 2ms/step - loss: 0.3369 - acc: 0.8881\n",
            "Epoch 60/100\n",
            "3090/3090 [==============================] - 5s 2ms/step - loss: 0.3367 - acc: 0.8884\n",
            "Epoch 61/100\n",
            "3090/3090 [==============================] - 5s 2ms/step - loss: 0.3364 - acc: 0.8883\n",
            "Epoch 62/100\n",
            "3090/3090 [==============================] - 5s 2ms/step - loss: 0.3360 - acc: 0.8883\n",
            "Epoch 63/100\n",
            "3090/3090 [==============================] - 5s 2ms/step - loss: 0.3365 - acc: 0.8883\n",
            "Epoch 64/100\n",
            "3090/3090 [==============================] - 5s 2ms/step - loss: 0.3367 - acc: 0.8883\n",
            "Epoch 65/100\n",
            "3090/3090 [==============================] - 5s 2ms/step - loss: 0.3363 - acc: 0.8882\n",
            "Epoch 66/100\n",
            "3090/3090 [==============================] - 5s 2ms/step - loss: 0.3363 - acc: 0.8882\n",
            "Epoch 67/100\n",
            "3090/3090 [==============================] - 5s 2ms/step - loss: 0.3365 - acc: 0.8883\n",
            "Epoch 68/100\n",
            "3090/3090 [==============================] - 5s 2ms/step - loss: 0.3366 - acc: 0.8884\n",
            "Epoch 69/100\n",
            "3090/3090 [==============================] - 5s 2ms/step - loss: 0.3366 - acc: 0.8884\n",
            "Epoch 70/100\n",
            "3090/3090 [==============================] - 5s 2ms/step - loss: 0.3364 - acc: 0.8888\n",
            "Epoch 71/100\n",
            "3090/3090 [==============================] - 5s 2ms/step - loss: 0.3365 - acc: 0.8883\n",
            "Epoch 72/100\n",
            "3090/3090 [==============================] - 5s 2ms/step - loss: 0.3370 - acc: 0.8880\n",
            "Epoch 73/100\n",
            "3090/3090 [==============================] - 5s 2ms/step - loss: 0.3364 - acc: 0.8883\n",
            "Epoch 74/100\n",
            "3090/3090 [==============================] - 5s 2ms/step - loss: 0.3367 - acc: 0.8888\n",
            "Epoch 75/100\n",
            "3090/3090 [==============================] - 5s 2ms/step - loss: 0.3366 - acc: 0.8885\n",
            "Epoch 76/100\n",
            "3090/3090 [==============================] - 5s 2ms/step - loss: 0.3367 - acc: 0.8885\n",
            "Epoch 77/100\n",
            "3090/3090 [==============================] - 5s 2ms/step - loss: 0.3362 - acc: 0.8879\n",
            "Epoch 78/100\n",
            "3090/3090 [==============================] - 5s 2ms/step - loss: 0.3363 - acc: 0.8885\n",
            "Epoch 79/100\n",
            "3090/3090 [==============================] - 5s 2ms/step - loss: 0.3363 - acc: 0.8885\n",
            "Epoch 80/100\n",
            "3090/3090 [==============================] - 5s 2ms/step - loss: 0.3363 - acc: 0.8884\n",
            "Epoch 81/100\n",
            "3090/3090 [==============================] - 5s 2ms/step - loss: 0.3363 - acc: 0.8884\n",
            "Epoch 82/100\n",
            "3090/3090 [==============================] - 5s 2ms/step - loss: 0.3366 - acc: 0.8883\n",
            "Epoch 83/100\n",
            "3090/3090 [==============================] - 5s 2ms/step - loss: 0.3362 - acc: 0.8883\n",
            "Epoch 84/100\n",
            "3090/3090 [==============================] - 5s 2ms/step - loss: 0.3366 - acc: 0.8883\n",
            "Epoch 85/100\n",
            "3090/3090 [==============================] - 5s 2ms/step - loss: 0.3362 - acc: 0.8886\n",
            "Epoch 86/100\n",
            "3090/3090 [==============================] - 5s 2ms/step - loss: 0.3363 - acc: 0.8883\n",
            "Epoch 87/100\n",
            "3090/3090 [==============================] - 5s 2ms/step - loss: 0.3364 - acc: 0.8881\n",
            "Epoch 88/100\n",
            "3090/3090 [==============================] - 5s 2ms/step - loss: 0.3363 - acc: 0.8883\n",
            "Epoch 89/100\n",
            "3090/3090 [==============================] - 5s 2ms/step - loss: 0.3364 - acc: 0.8883\n",
            "Epoch 90/100\n",
            "3090/3090 [==============================] - 5s 2ms/step - loss: 0.3361 - acc: 0.8885\n",
            "Epoch 91/100\n",
            "3090/3090 [==============================] - 5s 2ms/step - loss: 0.3367 - acc: 0.8888\n",
            "Epoch 92/100\n",
            "3090/3090 [==============================] - 5s 2ms/step - loss: 0.3370 - acc: 0.8881\n",
            "Epoch 93/100\n",
            "3090/3090 [==============================] - 5s 2ms/step - loss: 0.3363 - acc: 0.8883\n",
            "Epoch 94/100\n",
            "3090/3090 [==============================] - 5s 2ms/step - loss: 0.3365 - acc: 0.8883\n",
            "Epoch 95/100\n",
            "3090/3090 [==============================] - 5s 2ms/step - loss: 0.3366 - acc: 0.8881\n",
            "Epoch 96/100\n",
            "3090/3090 [==============================] - 5s 2ms/step - loss: 0.3365 - acc: 0.8883\n",
            "Epoch 97/100\n",
            "3090/3090 [==============================] - 5s 2ms/step - loss: 0.3366 - acc: 0.8881\n",
            "Epoch 98/100\n",
            "3090/3090 [==============================] - 5s 2ms/step - loss: 0.3367 - acc: 0.8886\n",
            "Epoch 99/100\n",
            "3090/3090 [==============================] - 5s 2ms/step - loss: 0.3368 - acc: 0.8883\n",
            "Epoch 100/100\n",
            "3090/3090 [==============================] - 5s 2ms/step - loss: 0.3368 - acc: 0.8879\n"
          ]
        }
      ]
    },
    {
      "cell_type": "markdown",
      "source": [
        "##P7.Graficamos el entrenamiento"
      ],
      "metadata": {
        "id": "pU_ipv0AeT5A"
      }
    },
    {
      "cell_type": "code",
      "source": [
        "import matplotlib.pyplot as plt\n",
        "plt.xlabel(\"# Epoca\")\n",
        "plt.ylabel(\"Magnitud de pérdida\")\n",
        "plt.plot(historial.history[\"acc\"])"
      ],
      "metadata": {
        "colab": {
          "base_uri": "https://localhost:8080/",
          "height": 296
        },
        "id": "Xbz7WQNWeU9a",
        "outputId": "93efe1d7-0dfc-46b0-886c-c0de21a5d4d8"
      },
      "execution_count": 79,
      "outputs": [
        {
          "output_type": "execute_result",
          "data": {
            "text/plain": [
              "[<matplotlib.lines.Line2D at 0x7f69724b3f50>]"
            ]
          },
          "metadata": {},
          "execution_count": 79
        },
        {
          "output_type": "display_data",
          "data": {
            "text/plain": [
              "<Figure size 432x288 with 1 Axes>"
            ],
            "image/png": "[encoded data removed]"
          },
          "metadata": {
            "needs_background": "light"
          }
        }
      ]
    },
    {
      "cell_type": "markdown",
      "source": [
        "##P8. Evaluar la Red Neuronal"
      ],
      "metadata": {
        "id": "t1Myim9xeaS4"
      }
    },
    {
      "cell_type": "code",
      "source": [
        "# evalua el modelo\n",
        "scores3 = model3.evaluate(X_test, Y_test)\n",
        "print(\"\\n%s: %.2f%%\" % (model3.metrics_names[1], scores3[1]*100))"
      ],
      "metadata": {
        "colab": {
          "base_uri": "https://localhost:8080/"
        },
        "id": "cQ0dG3pgea7F",
        "outputId": "bd8b64da-0d7d-4457-aa98-6cf0a9665713"
      },
      "execution_count": 80,
      "outputs": [
        {
          "output_type": "stream",
          "name": "stdout",
          "text": [
            "322/322 [==============================] - 1s 2ms/step - loss: 0.3405 - acc: 0.8844\n",
            "\n",
            "acc: 88.44%\n"
          ]
        }
      ]
    },
    {
      "cell_type": "markdown",
      "source": [
        "##P9.exportar modelo"
      ],
      "metadata": {
        "id": "3PGBqCebeddu"
      }
    },
    {
      "cell_type": "code",
      "source": [
        "model3.save('DL_BANKMARKETING.h5')"
      ],
      "metadata": {
        "id": "TQhhpPMIedB2"
      },
      "execution_count": 81,
      "outputs": []
    }
  ]
}